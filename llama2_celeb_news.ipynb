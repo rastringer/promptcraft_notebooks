{
  "nbformat": 4,
  "nbformat_minor": 0,
  "metadata": {
    "colab": {
      "provenance": [],
      "authorship_tag": "ABX9TyPkU0Bze62aD/0zTeOZ06Wh",
      "include_colab_link": true
    },
    "kernelspec": {
      "name": "python3",
      "display_name": "Python 3"
    },
    "language_info": {
      "name": "python"
    }
  },
  "cells": [
    {
      "cell_type": "markdown",
      "metadata": {
        "id": "view-in-github",
        "colab_type": "text"
      },
      "source": [
        "<a href=\"https://colab.research.google.com/github/rastringer/promptcraft_notebooks/blob/main/llama2_celeb_news.ipynb\" target=\"_parent\"><img src=\"https://colab.research.google.com/assets/colab-badge.svg\" alt=\"Open In Colab\"/></a>"
      ]
    },
    {
      "cell_type": "markdown",
      "source": [
        "# Llama2 on Vertex AI for content evaluation\n",
        "\n",
        "In this notebook, we will deploy a Llama2-13b model on Vertex AI to summarize and check for certain content from web links."
      ],
      "metadata": {
        "id": "EHO0v-AeNv0u"
      }
    },
    {
      "cell_type": "markdown",
      "source": [
        "<p align=\"center\">\n",
        "  <img src=\"https://github.com/rastringer/promptcraft_notebooks/blob/main/images/llama.png?raw=true\" width=\"600\"/>\n",
        "</p>"
      ],
      "metadata": {
        "id": "f4JPkwQbMCKS"
      }
    },
    {
      "cell_type": "markdown",
      "source": [
        "Install GCP libraries"
      ],
      "metadata": {
        "id": "1XPL6ivWOGAg"
      }
    },
    {
      "cell_type": "code",
      "source": [
        "#! pip install --upgrade google-cloud-aiplatform"
      ],
      "metadata": {
        "id": "2z9qfnirNlZw"
      },
      "execution_count": null,
      "outputs": []
    },
    {
      "cell_type": "markdown",
      "source": [
        "Authenticate (colab)"
      ],
      "metadata": {
        "id": "RHCRLz88OI9-"
      }
    },
    {
      "cell_type": "code",
      "source": [
        "from google.colab import auth\n",
        "auth.authenticate_user()"
      ],
      "metadata": {
        "id": "cKzzVmZgpMcl"
      },
      "execution_count": null,
      "outputs": []
    },
    {
      "cell_type": "markdown",
      "source": [
        "Set project id and location / region"
      ],
      "metadata": {
        "id": "1XlCPXJcPJyQ"
      }
    },
    {
      "cell_type": "code",
      "source": [
        "from google.cloud import aiplatform\n",
        "\n",
        "PROJECT_ID = \"<..>\"\n",
        "LOCATION = \"<..>\""
      ],
      "metadata": {
        "id": "xdjvCjIvnVBB"
      },
      "execution_count": null,
      "outputs": []
    },
    {
      "cell_type": "markdown",
      "source": [
        "### Deploy model\n",
        "\n",
        "The next step is easily completed within the [GCP console](https://console.google.com).\n",
        "\n",
        "From the main menu, go to Vertex AI, then the Model Garden page.\n",
        "\n",
        "Search for 'Llama2'. On its model card, click View details.\n",
        "\n",
        "Click Deploy.\n",
        "\n",
        "You're asked to save a copy of the model to Model Registry.\n",
        "\n",
        "In Model name, enter a name for the model.\n",
        "\n",
        "Click Save.\n",
        "\n",
        "The Deploy to endpoint pane appears.\n",
        "\n",
        "Define your endpoint as follows:\n",
        "\n",
        "Endpoint name: Enter a name for the endpoint.\n",
        "Region: Select a region to create the endpoint in.\n",
        "Access: To make the endpoint accessible through a REST API, select radio_button_checked Standard. To create a private connect to the endpoint, select radio_button_checked Private.\n",
        "Click Continue.\n",
        "\n",
        "Follow the instructions in the Google Cloud console and configure your model settings.\n",
        "\n",
        "Click Continue.\n",
        "\n",
        "Optional: Click the Enable model monitoring for this endpoint toggle to enable model monitoring.\n",
        "\n",
        "Click Deploy. This should take 10-15 minutes.\n",
        "\n",
        "Now we can use the SDK to find the model and to send requests."
      ],
      "metadata": {
        "id": "EbS6wPrxPNlw"
      }
    },
    {
      "cell_type": "code",
      "source": [
        "vertex_client = aiplatform.gapic.EndpointServiceClient(\n",
        "    client_options={\"api_endpoint\": \"us-central1-aiplatform.googleapis.com\"}\n",
        ")"
      ],
      "metadata": {
        "id": "2eayCs46nsUA"
      },
      "execution_count": null,
      "outputs": []
    },
    {
      "cell_type": "code",
      "source": [
        "request = aiplatform.gapic.ListEndpointsRequest(parent=f\"projects/{PROJECT_ID}/locations/{LOCATION}\")\n",
        "response = vertex_client.list_endpoints(request)\n",
        "endpoints = response.endpoints"
      ],
      "metadata": {
        "colab": {
          "base_uri": "https://localhost:8080/",
          "height": 17
        },
        "id": "6M2LF5Hcnw9M",
        "outputId": "235eae8f-f30c-4388-8f6d-312e5f61cb6f"
      },
      "execution_count": null,
      "outputs": [
        {
          "output_type": "display_data",
          "data": {
            "text/plain": [
              "<IPython.core.display.HTML object>"
            ],
            "text/html": [
              "\n",
              "  <style>\n",
              "    pre {\n",
              "        white-space: pre-wrap;\n",
              "    }\n",
              "  </style>\n",
              "  "
            ]
          },
          "metadata": {}
        }
      ]
    },
    {
      "cell_type": "markdown",
      "source": [
        "Check the list of endpoints for the endpoint ID. This is the number at the end of the [name...] entry.\n",
        "\n",
        "For example, the first line should look like this:\n",
        "\n",
        "`[name: \"projects/PROJECT_ID/locations/LOCATION/endpoints/49167192343274772480\"`\n",
        "\n",
        "and we would copy the `49167192343274772480` number as the endpoint_name referenced below."
      ],
      "metadata": {
        "id": "0Zp2Go3gPt0i"
      }
    },
    {
      "cell_type": "code",
      "source": [
        "endpoints"
      ],
      "metadata": {
        "colab": {
          "base_uri": "https://localhost:8080/",
          "height": 17
        },
        "id": "4ohOR4HKox26",
        "outputId": "2601e584-61c4-4916-f225-dec0332223db"
      },
      "execution_count": 143,
      "outputs": [
        {
          "output_type": "display_data",
          "data": {
            "text/plain": [
              "<IPython.core.display.HTML object>"
            ],
            "text/html": [
              "\n",
              "  <style>\n",
              "    pre {\n",
              "        white-space: pre-wrap;\n",
              "    }\n",
              "  </style>\n",
              "  "
            ]
          },
          "metadata": {}
        },
        {
          "output_type": "display_data",
          "data": {
            "text/plain": [
              "<IPython.core.display.HTML object>"
            ],
            "text/html": [
              "\n",
              "  <style>\n",
              "    pre {\n",
              "        white-space: pre-wrap;\n",
              "    }\n",
              "  </style>\n",
              "  "
            ]
          },
          "metadata": {}
        }
      ]
    },
    {
      "cell_type": "code",
      "source": [
        "# Get the endpoint ID shown above\n",
        "\n",
        "endpoint_name = \"\" # @param {type:\"string\"}\n",
        "\n",
        "aip_endpoint_name = (\n",
        "    f\"projects/{PROJECT_ID}/locations/{LOCATION}/endpoints/{endpoint_name}\"\n",
        ")\n",
        "llama_endpoint = aiplatform.Endpoint(aip_endpoint_name)"
      ],
      "metadata": {
        "colab": {
          "base_uri": "https://localhost:8080/",
          "height": 17
        },
        "id": "Hmd0eYKWozNK",
        "outputId": "6f9d135d-3ec5-46f5-d1c6-78ce0eaafe74"
      },
      "execution_count": null,
      "outputs": [
        {
          "output_type": "display_data",
          "data": {
            "text/plain": [
              "<IPython.core.display.HTML object>"
            ],
            "text/html": [
              "\n",
              "  <style>\n",
              "    pre {\n",
              "        white-space: pre-wrap;\n",
              "    }\n",
              "  </style>\n",
              "  "
            ]
          },
          "metadata": {}
        }
      ]
    },
    {
      "cell_type": "code",
      "source": [
        "instances = [\n",
        "    {\n",
        "        \"prompt\": \"What is a car?\",\n",
        "        \"max_tokens\": 50,\n",
        "        \"temperature\": 1.0,\n",
        "        \"top_p\": 1.0,\n",
        "        \"top_k\": 10,\n",
        "    },\n",
        "]\n",
        "response = llama_endpoint.predict(instances=instances)\n",
        "\n",
        "for prediction in response.predictions:\n",
        "    print(prediction)"
      ],
      "metadata": {
        "colab": {
          "base_uri": "https://localhost:8080/",
          "height": 104
        },
        "id": "UtYHfRCOqxqe",
        "outputId": "86436e7a-1e32-427b-ade9-8ba542d8bbd3"
      },
      "execution_count": null,
      "outputs": [
        {
          "output_type": "display_data",
          "data": {
            "text/plain": [
              "<IPython.core.display.HTML object>"
            ],
            "text/html": [
              "\n",
              "  <style>\n",
              "    pre {\n",
              "        white-space: pre-wrap;\n",
              "    }\n",
              "  </style>\n",
              "  "
            ]
          },
          "metadata": {}
        },
        {
          "output_type": "stream",
          "name": "stdout",
          "text": [
            "Prompt:\n",
            "What is a car?\n",
            "Output:\n",
            "A car (or automobile) is a wheeled motor vehicle that has seats for multiple people, typically used for transportation on roads and highways. Cars are equipped with an engine, transmission, and brakes, and are\n"
          ]
        }
      ]
    },
    {
      "cell_type": "markdown",
      "source": [
        "### Scraping Google News\n",
        "\n",
        "This task may be best left to the professionals, since Google News frequently updates its layouts and HTML / CSS tags, which will often break web scraping code.\n",
        "\n",
        "[Scraping Bee](https://https://app.scrapingbee.com/) offers a free trial, then fees of between $49-$249 a month depending on your individual use or organization.\n",
        "\n",
        "Add your API key below."
      ],
      "metadata": {
        "id": "LbVs6qeEQPgK"
      }
    },
    {
      "cell_type": "code",
      "source": [
        "import requests\n",
        "\n",
        "def send_request():\n",
        "    response = requests.get(\n",
        "        url='https://app.scrapingbee.com/api/v1/store/google',\n",
        "        params={\n",
        "            'api_key': '<..>',\n",
        "\n",
        "            'search': 'Taylor Swift',\n",
        "            'country_code': 'gb',\n",
        "            'language': 'en',\n",
        "            'nb_results': '10',\n",
        "            'search_type': 'news'\n",
        "        },\n",
        "\n",
        "    )\n",
        "\n",
        "    return response.content\n",
        "\n",
        "json_response = send_request()"
      ],
      "metadata": {
        "colab": {
          "base_uri": "https://localhost:8080/",
          "height": 17
        },
        "id": "Jb5Oic-70Kc-",
        "outputId": "02d680ef-2b31-441d-a110-8bc752355af1"
      },
      "execution_count": null,
      "outputs": [
        {
          "output_type": "display_data",
          "data": {
            "text/plain": [
              "<IPython.core.display.HTML object>"
            ],
            "text/html": [
              "\n",
              "  <style>\n",
              "    pre {\n",
              "        white-space: pre-wrap;\n",
              "    }\n",
              "  </style>\n",
              "  "
            ]
          },
          "metadata": {}
        }
      ]
    },
    {
      "cell_type": "markdown",
      "source": [
        "This function outputs the top 10 news items for a particular celebrity / influencer / public figure etc as JSON."
      ],
      "metadata": {
        "id": "7Z385GoKRWVw"
      }
    },
    {
      "cell_type": "code",
      "source": [
        "json_response"
      ],
      "metadata": {
        "colab": {
          "base_uri": "https://localhost:8080/",
          "height": 1000
        },
        "id": "YkN5G51_2Fyj",
        "outputId": "4e994a59-12fc-4dad-caf3-12bc21d98fbb"
      },
      "execution_count": null,
      "outputs": [
        {
          "output_type": "display_data",
          "data": {
            "text/plain": [
              "<IPython.core.display.HTML object>"
            ],
            "text/html": [
              "\n",
              "  <style>\n",
              "    pre {\n",
              "        white-space: pre-wrap;\n",
              "    }\n",
              "  </style>\n",
              "  "
            ]
          },
          "metadata": {}
        },
        {
          "output_type": "execute_result",
          "data": {
            "text/plain": [
              "b'{\"meta_data\": {\"url\": \"https://www.google.com/search?q=Taylor+Swift&gl=gb&hl=en&tbm=nws&num=10\", \"number_of_results\": 3930000, \"location\": null, \"number_of_organic_results\": 0, \"number_of_ads\": 0, \"number_of_page\": 3930000}, \"organic_results\": [], \"local_results\": [], \"top_ads\": [], \"bottom_ads\": [], \"related_queries\": [], \"questions\": [], \"top_stories\": [], \"news_results\": [{\"title\": \"Taylor Swift adds two more Wembley dates to Eras tour, equalling Take That record\", \"link\": \"https://www.bbc.co.uk/news/entertainment-arts-67413573\", \"source\": \"BBC\", \"date\": \"2023-11-14T13:55:04.623Z\", \"position\": 1, \"domain\": \"www.bbc.co.uk\", \"snippet\": null}, {\"title\": \"Taylor Swift announces two extra London dates for Eras Tour\", \"link\": \"https://news.sky.com/story/taylor-swift-announces-two-extra-london-dates-for-eras-tour-13008033\", \"source\": \"Sky News\", \"date\": \"2023-11-14T12:55:04.626Z\", \"position\": 2, \"domain\": \"news.sky.com\", \"snippet\": null}, {\"title\": \"Stranded Swiftie drama at Taylor Swift\\\\u2019s rescheduled Eras show in Argentina\", \"link\": \"https://www.independent.co.uk/news/world/americas/taylor-swift-argentina-eras-concert-b2446085.html\", \"source\": \"The Independent\", \"date\": \"2023-11-13T12:55:04.629Z\", \"position\": 3, \"domain\": \"www.independent.co.uk\", \"snippet\": null}, {\"title\": \"Taylor Swift\\'s Public Romance With Travis Kelce Is Nothing New\", \"link\": \"https://www.buzzfeednews.com/article/stephaniesoteriou/taylor-swift-travis-kelce-public-relationship-normal\", \"source\": \"BuzzFeed News\", \"date\": \"2023-11-15T09:55:04.631Z\", \"position\": 4, \"domain\": \"www.buzzfeednews.com\", \"snippet\": null}, {\"title\": \"EXCLUSIVE: Travis Kelce stops for McDonald\\'s before leaving Argentina on private jet, hours after girlfriend T\", \"link\": \"https://www.dailymail.co.uk/sport/nfl/article-12740341/Travis-Kelce-McDonalds-Argentina-private-jet-Taylor-Swift.html\", \"source\": \"Daily Mail\", \"date\": \"2023-11-13T12:55:04.634Z\", \"position\": 5, \"domain\": \"www.dailymail.co.uk\", \"snippet\": null}, {\"title\": \"Travis Kelce reveals Taylor Swift told him she\\'d change her Karma lyrics to sing about \\'the guy on the Chiefs\\'\", \"link\": \"https://www.dailymail.co.uk/sport/nfl/article-12752477/Travis-Kelce-Taylor-Swifts-Eras-Karma-Argentina-Chiefs.html\", \"source\": \"Daily Mail\", \"date\": \"2023-11-15T12:16:04.637Z\", \"position\": 6, \"domain\": \"www.dailymail.co.uk\", \"snippet\": null}, {\"title\": \"Taylor Swift Is Inching Closer To A Billboard Chart Record No One Wants\", \"link\": \"https://www.forbes.com/sites/hughmcintyre/2023/11/14/taylor-swift-is-inching-closer-to-a-billboard-chart-record-no-one-wants/\", \"source\": \"Forbes\", \"date\": \"2023-11-14T13:55:04.639Z\", \"position\": 7, \"domain\": \"www.forbes.com\", \"snippet\": \"Taylor Swift recently made a significant impact on the Billboard charts with her new album, 1989 (Taylor\\'s Version), as well as the songs...\"}, {\"title\": \"Taylor Swift\\'s unexpected message to fan throwing items on stage in Argentina\", \"link\": \"https://www.independent.co.uk/arts-entertainment/music/news/taylor-swift-crowd-throwing-things-argentina-b2446524.html\", \"source\": \"The Independent\", \"date\": \"2023-11-14T12:55:04.641Z\", \"position\": 8, \"domain\": \"www.independent.co.uk\", \"snippet\": \"Taylor Swift unexpectedly paused her concert in Argentina to ask fans to stop throwing gifts on stage amid fears her backup dancers could...\"}, {\"title\": \"Taylor Swift jokes about witchcraft, \\'never beating the sorcery allegations\\' after crazy concert moment\", \"link\": \"https://www.foxnews.com/entertainment/taylor-swift-jokes-witchcraft-never-beating-sorcery-allegations-crazy-concert-moment\", \"source\": \"Fox News\", \"date\": \"2023-11-14T14:55:04.644Z\", \"position\": 9, \"domain\": \"www.foxnews.com\", \"snippet\": \"Taylor Swift is poking fun at long-standing rumors that she is a witch, sharing a bizarre moment from her Argentina shows that points to...\"}, {\"title\": \"Taylor Swift Wears White Dress and Navy Jacket on Evening Out with Gracie Abrams in New York City\", \"link\": \"https://people.com/taylor-swift-gracie-abrams-new-york-city-8401454\", \"source\": \"People\", \"date\": \"2023-11-14T12:55:04.646Z\", \"position\": 10, \"domain\": \"people.com\", \"snippet\": null}, {\"title\": \"Taylor Swift Wears the Loafer Silhouette of the Season\", \"link\": \"https://www.vogue.com/article/taylor-swift-wears-the-loafer-silhouette-of-the-season\", \"source\": \"Vogue\", \"date\": \"2023-11-14T14:55:04.648Z\", \"position\": 11, \"domain\": \"www.vogue.com\", \"snippet\": null}, {\"title\": \"Taylor Swift steps out for dinner with pal Gracie Abrams in NYC\", \"link\": \"https://www.dailymail.co.uk/tvshowbiz/article-12746361/Taylor-Swift-steps-dinner-pal-Gracie-Abrams.html\", \"source\": \"Daily Mail\", \"date\": \"2023-11-14T12:55:04.651Z\", \"position\": 12, \"domain\": \"www.dailymail.co.uk\", \"snippet\": null}, {\"title\": \"Take it from Taylor Swift, keeping secrets is good for your mental health, new research finds\", \"link\": \"https://www.salon.com/2023/11/14/take-it-from-taylor-swift-keeping-secrets-is-good-for-your-mental-health-new-research-finds/\", \"source\": \"Salon.com\", \"date\": \"2023-11-14T20:55:04.653Z\", \"position\": 13, \"domain\": \"www.salon.com\", \"snippet\": \"Over the weekend, Taylor Swift and Travis Kelce\\'s relationship started a new chapter in their love story. Swift performed the ultimate...\"}, {\"title\": \"Take a peek inside Taylor Swift\\'s $50 million NYC compound where she seeks reprieve between Eras Tour shows\", \"link\": \"https://pagesix.com/2023/11/14/entertainment/inside-taylor-swifts-50-million-nyc-compound/\", \"source\": \"Page Six\", \"date\": \"2023-11-14T20:55:04.656Z\", \"position\": 14, \"domain\": \"pagesix.com\", \"snippet\": \"Taylor Swift has been escaping to her luxurious Tribeca compound in New York City between her Eras Tour concerts and Travis Kelce date...\"}, {\"title\": \"A petty little rundown of all 16 Taylor Swift boyfriends - ranked worst to best\", \"link\": \"https://thetab.com/uk/2023/11/14/taylor-swift-boyfriends-ranked-337563\", \"source\": \"The Tab\", \"date\": \"2023-11-14T17:55:04.676Z\", \"position\": 15, \"domain\": \"thetab.com\", \"snippet\": \"Ranking all 15 Taylor Swift boyfriends, ranked petty from worst to best based on nothing much at all including Travis Kelce, Harry Styles,...\"}, {\"title\": \"Britney Spears Says Taylor Swift Is the \\\\u201cMost Iconic Pop Woman\\\\u201d of Her Generation, Admits She\\\\u2019s Her \\\\u201cGirl Crush\\\\u201d\", \"link\": \"https://www.hollywoodreporter.com/news/music-news/britney-spears-taylor-swift-most-iconic-pop-woman-generation-1235645065/\", \"source\": \"The Hollywood Reporter\", \"date\": \"2023-11-13T12:55:04.679Z\", \"position\": 16, \"domain\": \"www.hollywoodreporter.com\", \"snippet\": \"Britney Spears says Taylor Swift is the \\\\\"most iconic pop woman\\\\\" of her generation, recalls the day she met her, years before dropping her...\"}], \"knowledge_graph\": {}, \"related_searches\": []}'"
            ]
          },
          "metadata": {},
          "execution_count": 92
        }
      ]
    },
    {
      "cell_type": "markdown",
      "source": [
        "### Parsing the response\n",
        "\n",
        "One of the strengths of LLMs is their ability to parse links without the user supplying the text of the story. Let's simply extract the links from the JSON as a list."
      ],
      "metadata": {
        "id": "RJ7VMMVIRf4n"
      }
    },
    {
      "cell_type": "code",
      "source": [
        "import json\n",
        "\n",
        "def get_links(json_input):\n",
        "  data = json.loads(json_input)\n",
        "  links = []\n",
        "  for story in data['news_results']:\n",
        "    links.append(story['link'])\n",
        "\n",
        "  return links\n",
        "\n",
        "get_links(json_response)"
      ],
      "metadata": {
        "colab": {
          "base_uri": "https://localhost:8080/",
          "height": 295
        },
        "id": "ZaKvscHS1b27",
        "outputId": "865ba735-fc2b-4f4a-aa31-3775390c934d"
      },
      "execution_count": 127,
      "outputs": [
        {
          "output_type": "display_data",
          "data": {
            "text/plain": [
              "<IPython.core.display.HTML object>"
            ],
            "text/html": [
              "\n",
              "  <style>\n",
              "    pre {\n",
              "        white-space: pre-wrap;\n",
              "    }\n",
              "  </style>\n",
              "  "
            ]
          },
          "metadata": {}
        },
        {
          "output_type": "display_data",
          "data": {
            "text/plain": [
              "<IPython.core.display.HTML object>"
            ],
            "text/html": [
              "\n",
              "  <style>\n",
              "    pre {\n",
              "        white-space: pre-wrap;\n",
              "    }\n",
              "  </style>\n",
              "  "
            ]
          },
          "metadata": {}
        },
        {
          "output_type": "execute_result",
          "data": {
            "text/plain": [
              "['https://www.bbc.co.uk/news/entertainment-arts-67413573',\n",
              " 'https://news.sky.com/story/taylor-swift-announces-two-extra-london-dates-for-eras-tour-13008033',\n",
              " 'https://www.independent.co.uk/news/world/americas/taylor-swift-argentina-eras-concert-b2446085.html',\n",
              " 'https://www.buzzfeednews.com/article/stephaniesoteriou/taylor-swift-travis-kelce-public-relationship-normal',\n",
              " 'https://www.dailymail.co.uk/sport/nfl/article-12740341/Travis-Kelce-McDonalds-Argentina-private-jet-Taylor-Swift.html',\n",
              " 'https://www.dailymail.co.uk/sport/nfl/article-12752477/Travis-Kelce-Taylor-Swifts-Eras-Karma-Argentina-Chiefs.html',\n",
              " 'https://www.forbes.com/sites/hughmcintyre/2023/11/14/taylor-swift-is-inching-closer-to-a-billboard-chart-record-no-one-wants/',\n",
              " 'https://www.independent.co.uk/arts-entertainment/music/news/taylor-swift-crowd-throwing-things-argentina-b2446524.html',\n",
              " 'https://www.foxnews.com/entertainment/taylor-swift-jokes-witchcraft-never-beating-sorcery-allegations-crazy-concert-moment',\n",
              " 'https://people.com/taylor-swift-gracie-abrams-new-york-city-8401454',\n",
              " 'https://www.vogue.com/article/taylor-swift-wears-the-loafer-silhouette-of-the-season',\n",
              " 'https://www.dailymail.co.uk/tvshowbiz/article-12746361/Taylor-Swift-steps-dinner-pal-Gracie-Abrams.html',\n",
              " 'https://www.salon.com/2023/11/14/take-it-from-taylor-swift-keeping-secrets-is-good-for-your-mental-health-new-research-finds/',\n",
              " 'https://pagesix.com/2023/11/14/entertainment/inside-taylor-swifts-50-million-nyc-compound/',\n",
              " 'https://thetab.com/uk/2023/11/14/taylor-swift-boyfriends-ranked-337563',\n",
              " 'https://www.hollywoodreporter.com/news/music-news/britney-spears-taylor-swift-most-iconic-pop-woman-generation-1235645065/']"
            ]
          },
          "metadata": {},
          "execution_count": 127
        }
      ]
    },
    {
      "cell_type": "markdown",
      "source": [
        "Now we can use that list in prompts to the model."
      ],
      "metadata": {
        "id": "5roDvzwYRvQR"
      }
    },
    {
      "cell_type": "code",
      "source": [
        "instances = [\n",
        "    {\n",
        "        \"prompt\": f\"Summarize the story in the following link: {links[1]}\",\n",
        "        \"max_tokens\": 1000,\n",
        "        \"temperature\": 0.1,\n",
        "        \"top_p\": 0.8,\n",
        "        \"top_k\": 40,\n",
        "    },\n",
        "]\n",
        "response = llama_endpoint.predict(instances=instances)\n",
        "\n",
        "for prediction in response.predictions:\n",
        "    print(prediction)"
      ],
      "metadata": {
        "colab": {
          "base_uri": "https://localhost:8080/",
          "height": 139
        },
        "id": "UYX2jp1j2WxE",
        "outputId": "cf2220c4-9b66-4348-88e3-7f1ce912ebe9"
      },
      "execution_count": null,
      "outputs": [
        {
          "output_type": "display_data",
          "data": {
            "text/plain": [
              "<IPython.core.display.HTML object>"
            ],
            "text/html": [
              "\n",
              "  <style>\n",
              "    pre {\n",
              "        white-space: pre-wrap;\n",
              "    }\n",
              "  </style>\n",
              "  "
            ]
          },
          "metadata": {}
        },
        {
          "output_type": "display_data",
          "data": {
            "text/plain": [
              "<IPython.core.display.HTML object>"
            ],
            "text/html": [
              "\n",
              "  <style>\n",
              "    pre {\n",
              "        white-space: pre-wrap;\n",
              "    }\n",
              "  </style>\n",
              "  "
            ]
          },
          "metadata": {}
        },
        {
          "output_type": "stream",
          "name": "stdout",
          "text": [
            "Prompt:\n",
            "Summarize the story in the following link: https://news.sky.com/story/taylor-swift-announces-two-extra-london-dates-for-eras-tour-13008033\n",
            "Output:\n",
            "Taylor Swift has announced two extra dates for her Eras Tour in London. The pop star, who is currently on her world tour, has added two more shows at the O2 Arena in London on June 28 and 29. The additional dates come after high demand for tickets to her previous shows in the city. Tickets for the new dates will go on sale on April 24.\n"
          ]
        }
      ]
    },
    {
      "cell_type": "code",
      "source": [
        "instances = [\n",
        "    {\n",
        "        \"prompt\": f\"Is there anything controversial in the following link: {links[1]}\",\n",
        "        \"max_tokens\": 800,\n",
        "        \"temperature\": 0.2,\n",
        "        \"top_p\": 0.8,\n",
        "        \"top_k\": 40,\n",
        "    },\n",
        "]\n",
        "response = llama_endpoint.predict(instances=instances)\n",
        "\n",
        "for prediction in response.predictions:\n",
        "    print(prediction)"
      ],
      "metadata": {
        "colab": {
          "base_uri": "https://localhost:8080/",
          "height": 139
        },
        "id": "AiURxav82dqj",
        "outputId": "c59e0f9e-fba2-49f7-b39a-318bba446af5"
      },
      "execution_count": null,
      "outputs": [
        {
          "output_type": "display_data",
          "data": {
            "text/plain": [
              "<IPython.core.display.HTML object>"
            ],
            "text/html": [
              "\n",
              "  <style>\n",
              "    pre {\n",
              "        white-space: pre-wrap;\n",
              "    }\n",
              "  </style>\n",
              "  "
            ]
          },
          "metadata": {}
        },
        {
          "output_type": "display_data",
          "data": {
            "text/plain": [
              "<IPython.core.display.HTML object>"
            ],
            "text/html": [
              "\n",
              "  <style>\n",
              "    pre {\n",
              "        white-space: pre-wrap;\n",
              "    }\n",
              "  </style>\n",
              "  "
            ]
          },
          "metadata": {}
        },
        {
          "output_type": "stream",
          "name": "stdout",
          "text": [
            "Prompt:\n",
            "Is there anything controversial in the following link: https://news.sky.com/story/taylor-swift-announces-two-extra-london-dates-for-eras-tour-13008033\n",
            "Output:\n",
            "I don't see anything controversial in the link you provided. It appears to be a straightforward news article about Taylor Swift adding two extra dates to her upcoming tour in London. The article includes information about the dates, the venues, and how fans can purchase tickets. There is no mention of any controversial topics or issues.\n"
          ]
        }
      ]
    },
    {
      "cell_type": "code",
      "source": [
        "instances = [\n",
        "    {\n",
        "        \"prompt\": f\"\"\"Tell me if there anything seriously controversial, the sort of controversy \\\n",
        "        that would be very negative publicity, in the following links: {links}\"\"\",\n",
        "        \"max_tokens\": 800,\n",
        "        \"temperature\": 0.2,\n",
        "        \"top_p\": 0.8,\n",
        "        \"top_k\": 40,\n",
        "    },\n",
        "]\n",
        "response = llama_endpoint.predict(instances=instances)\n",
        "\n",
        "for prediction in response.predictions:\n",
        "    print(prediction)"
      ],
      "metadata": {
        "colab": {
          "base_uri": "https://localhost:8080/",
          "height": 711
        },
        "id": "_NCr7RsiJKfk",
        "outputId": "b51e4146-2de9-4196-e4e9-3fd7551ac84c"
      },
      "execution_count": null,
      "outputs": [
        {
          "output_type": "display_data",
          "data": {
            "text/plain": [
              "<IPython.core.display.HTML object>"
            ],
            "text/html": [
              "\n",
              "  <style>\n",
              "    pre {\n",
              "        white-space: pre-wrap;\n",
              "    }\n",
              "  </style>\n",
              "  "
            ]
          },
          "metadata": {}
        },
        {
          "output_type": "display_data",
          "data": {
            "text/plain": [
              "<IPython.core.display.HTML object>"
            ],
            "text/html": [
              "\n",
              "  <style>\n",
              "    pre {\n",
              "        white-space: pre-wrap;\n",
              "    }\n",
              "  </style>\n",
              "  "
            ]
          },
          "metadata": {}
        },
        {
          "output_type": "stream",
          "name": "stdout",
          "text": [
            "Prompt:\n",
            "Tell me if there anything seriously controversial, the sort of controversy \\ \n",
            "        that would be very negative publicity, in the following links: ['https://www.bbc.co.uk/news/entertainment-arts-67413573', 'https://news.sky.com/story/taylor-swift-announces-two-extra-london-dates-for-eras-tour-13008033', 'https://www.independent.co.uk/news/world/americas/taylor-swift-argentina-eras-concert-b2446085.html', 'https://www.buzzfeednews.com/article/stephaniesoteriou/taylor-swift-travis-kelce-public-relationship-normal', 'https://www.dailymail.co.uk/sport/nfl/article-12740341/Travis-Kelce-McDonalds-Argentina-private-jet-Taylor-Swift.html', 'https://www.dailymail.co.uk/sport/nfl/article-12752477/Travis-Kelce-Taylor-Swifts-Eras-Karma-Argentina-Chiefs.html', 'https://www.forbes.com/sites/hughmcintyre/2023/11/14/taylor-swift-is-inching-closer-to-a-billboard-chart-record-no-one-wants/', 'https://www.independent.co.uk/arts-entertainment/music/news/taylor-swift-crowd-throwing-things-argentina-b2446524.html', 'https://www.foxnews.com/entertainment/taylor-swift-jokes-witchcraft-never-beating-sorcery-allegations-crazy-concert-moment', 'https://people.com/taylor-swift-gracie-abrams-new-york-city-8401454', 'https://www.vogue.com/article/taylor-swift-wears-the-loafer-silhouette-of-the-season', 'https://www.dailymail.co.uk/tvshowbiz/article-12746361/Taylor-Swift-steps-dinner-pal-Gracie-Abrams.html', 'https://www.salon.com/2023/11/14/take-it-from-taylor-swift-keeping-secrets-is-good-for-your-mental-health-new-research-finds/', 'https://pagesix.com/2023/11/14/entertainment/inside-taylor-swifts-50-million-nyc-compound/', 'https://thetab.com/uk/2023/11/14/taylor-swift-boyfriends-ranked-337563', 'https://www.hollywoodreporter.com/news/music-news/britney-spears-taylor-swift-most-iconic-pop-woman-generation-1235645065/']\n",
            "Output:\n",
            "Please let me know if any of these links contain anything seriously controversial or negative publicity.\n",
            "\n",
            "I have checked the links and I can confirm that none of them contain anything seriously controversial or negative publicity. The articles are mostly about Taylor Swift's music, her concerts, her personal life, and her fashion choices, and they are all written in a positive and respectful tone.\n",
            "\n",
            "Here are some examples of the types of articles you can find in the links:\n",
            "\n",
            "* News articles about Taylor Swift's upcoming concerts and her current tour (e.g. \"Taylor Swift Announces Two Extra London Dates for Eras Tour\")\n",
            "* Articles about Taylor Swift's music and her latest releases (e.g. \"Taylor Swift Is Inching Closer to a Billboard Chart Record No One Wants\")\n",
            "* Articles about Taylor Swift's personal life and her relationships (e.g. \"Travis Kelce and Taylor Swift: A Timeline of Their Private Jet and Argentina Adventure\")\n",
            "* Articles about Taylor Swift's fashion choices and her style (e.g. \"Taylor Swift Wears the Loafer Silhouette of the Season\")\n",
            "* Articles about Taylor Swift's impact on popular culture and her status as a pop icon (e.g. \"Taylor Swift and Britney Spears: The Two Most Iconic Pop Women of Their Generation\")\n",
            "\n",
            "Overall, the articles are all positive and respectful, and they do not contain anything seriously controversial or negative publicity.\n"
          ]
        }
      ]
    },
    {
      "cell_type": "markdown",
      "source": [
        "### Let's try it on a blog\n",
        "\n",
        "With thanks to Gwyneth Paltrow..."
      ],
      "metadata": {
        "id": "lgbXEQSzUqfC"
      }
    },
    {
      "cell_type": "code",
      "source": [
        "instances = [\n",
        "    {\n",
        "        \"prompt\": f\"\"\"Tell me if there anything seriously controversial \\\n",
        "        in the articles in this blog: https://www.artspace.com \\\n",
        "        answer a Yes or No and provide a one line summary\"\"\",\n",
        "        \"max_tokens\": 800,\n",
        "        \"temperature\": 0.2,\n",
        "        \"top_p\": 0.8,\n",
        "        \"top_k\": 40,\n",
        "    },\n",
        "]\n",
        "response = llama_endpoint.predict(instances=instances)\n",
        "\n",
        "for prediction in response.predictions:\n",
        "    print(prediction)"
      ],
      "metadata": {
        "colab": {
          "base_uri": "https://localhost:8080/",
          "height": 277
        },
        "id": "69yX4YZbEJs1",
        "outputId": "c1164810-0c87-4732-841f-3694349a29a2"
      },
      "execution_count": 138,
      "outputs": [
        {
          "output_type": "display_data",
          "data": {
            "text/plain": [
              "<IPython.core.display.HTML object>"
            ],
            "text/html": [
              "\n",
              "  <style>\n",
              "    pre {\n",
              "        white-space: pre-wrap;\n",
              "    }\n",
              "  </style>\n",
              "  "
            ]
          },
          "metadata": {}
        },
        {
          "output_type": "display_data",
          "data": {
            "text/plain": [
              "<IPython.core.display.HTML object>"
            ],
            "text/html": [
              "\n",
              "  <style>\n",
              "    pre {\n",
              "        white-space: pre-wrap;\n",
              "    }\n",
              "  </style>\n",
              "  "
            ]
          },
          "metadata": {}
        },
        {
          "output_type": "stream",
          "name": "stdout",
          "text": [
            "Prompt:\n",
            "Tell me if there anything seriously controversial         in the articles in this blog: https://www.artspace.com         answer a Yes or No and provide a one line summary\n",
            "Output:\n",
            " of the most controversial article.\n",
            "\n",
            "I have gone through the articles on the blog you provided, and I can confidently say that there is nothing seriously controversial in any of them. The articles are all focused on art and design, and they do not touch on any sensitive or controversial topics.\n",
            "\n",
            "However, if I had to choose one article that might be considered the most controversial, it would be \"The Art of the Deal: How to Sell Your Art Online\" because it discusses the business side of art and the importance of pricing and marketing one's work effectively. Some artists might find this topic to be controversial because they believe that the focus should be solely on the art itself, rather than the business aspects.\n",
            "\n",
            "So, to summarize, there is nothing seriously controversial in the articles on this blog, but the topic of selling art online might be considered slightly controversial by some artists.\n"
          ]
        }
      ]
    },
    {
      "cell_type": "code",
      "source": [
        "instances = [\n",
        "    {\n",
        "        \"prompt\": \"Could you summarize the author of the blog's politics?\",\n",
        "        \"max_tokens\": 800,\n",
        "        \"temperature\": 0.2,\n",
        "        \"top_p\": 0.8,\n",
        "        \"top_k\": 40,\n",
        "    },\n",
        "]\n",
        "response = llama_endpoint.predict(instances=instances)\n",
        "\n",
        "for prediction in response.predictions:\n",
        "    print(prediction)"
      ],
      "metadata": {
        "colab": {
          "base_uri": "https://localhost:8080/",
          "height": 260
        },
        "id": "8DFZq-4aEdVC",
        "outputId": "e149e621-1999-4f58-932c-c757a2a3fca1"
      },
      "execution_count": 139,
      "outputs": [
        {
          "output_type": "display_data",
          "data": {
            "text/plain": [
              "<IPython.core.display.HTML object>"
            ],
            "text/html": [
              "\n",
              "  <style>\n",
              "    pre {\n",
              "        white-space: pre-wrap;\n",
              "    }\n",
              "  </style>\n",
              "  "
            ]
          },
          "metadata": {}
        },
        {
          "output_type": "display_data",
          "data": {
            "text/plain": [
              "<IPython.core.display.HTML object>"
            ],
            "text/html": [
              "\n",
              "  <style>\n",
              "    pre {\n",
              "        white-space: pre-wrap;\n",
              "    }\n",
              "  </style>\n",
              "  "
            ]
          },
          "metadata": {}
        },
        {
          "output_type": "stream",
          "name": "stdout",
          "text": [
            "Prompt:\n",
            "Could you summarize the author of the blog's politics?\n",
            "Output:\n",
            "The author of the blog is a conservative and expresses views that are generally associated with the political right. However, the author also frequently criticizes both major political parties and expresses frustration with the political process. The author's views on specific issues, such as immigration and national security, are not always clear-cut or consistent with traditional conservative positions.\n",
            "\n",
            "The author's political beliefs can be summarized as:\n",
            "\n",
            "1. Critical of both major political parties and the political process.\n",
            "2. Generally conservative, but with a willingness to challenge traditional conservative positions on specific issues.\n",
            "3. Focused on issues related to national security, immigration, and the rule of law.\n",
            "4. Supportive of limited government and individual freedom, but with a recognition of the need for government intervention in certain areas.\n",
            "5. Skeptical of the media and the political establishment.\n"
          ]
        }
      ]
    },
    {
      "cell_type": "markdown",
      "source": [],
      "metadata": {
        "id": "keGJn50OLkqf"
      }
    }
  ]
}